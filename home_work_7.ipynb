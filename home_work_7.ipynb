{
 "cells": [
  {
   "cell_type": "code",
   "execution_count": 1,
   "metadata": {},
   "outputs": [],
   "source": [
    "import numpy as np\n",
    "import pandas as pd\n",
    "import matplotlib.pyplot as plt\n",
    "%matplotlib inline"
   ]
  },
  {
   "cell_type": "markdown",
   "metadata": {},
   "source": [
    "# Задание 1   \n",
    "Даны значения величины заработной платы заемщиков банка (zp)    \n",
    "и значения их поведенческого кредитного скоринга (ks):    \n",
    "zp = [35, 45, 190, 200, 40, 70, 54, 150, 120, 110], ks = [401, 574, 874, 919, 459, 739, 653, 902, 746, 832].    \n",
    "Используя математические операции, посчитать коэффициенты линейной регрессии,    \n",
    "приняв за X заработную плату (то есть, zp - признак),    \n",
    "а за y - значения скорингового балла (то есть, ks - целевая переменная).    \n",
    "Произвести расчет как с использованием intercept, так и без."
   ]
  },
  {
   "cell_type": "code",
   "execution_count": 2,
   "metadata": {},
   "outputs": [],
   "source": [
    "X = np.array([35, 45, 190, 200, 40, 70, 54, 150, 120, 110])"
   ]
  },
  {
   "cell_type": "code",
   "execution_count": 3,
   "metadata": {},
   "outputs": [],
   "source": [
    "y = np.array([401, 574, 874, 919, 459, 739, 653, 902, 746, 832])"
   ]
  },
  {
   "cell_type": "code",
   "execution_count": 4,
   "metadata": {},
   "outputs": [
    {
     "data": {
      "text/plain": [
       "10"
      ]
     },
     "execution_count": 4,
     "metadata": {},
     "output_type": "execute_result"
    }
   ],
   "source": [
    "n = X.shape[0]\n",
    "n"
   ]
  },
  {
   "cell_type": "markdown",
   "metadata": {},
   "source": [
    "1. Расчет с использованием intercept"
   ]
  },
  {
   "cell_type": "markdown",
   "metadata": {},
   "source": [
    "$$b = \\frac{\\overline{yx} - \\overline{y} \\cdot {\\overline{x}}}{\\overline{x^2} - (\\overline{x})^2};$$"
   ]
  },
  {
   "cell_type": "code",
   "execution_count": 5,
   "metadata": {},
   "outputs": [
    {
     "data": {
      "text/plain": [
       "2.620538882402765"
      ]
     },
     "execution_count": 5,
     "metadata": {},
     "output_type": "execute_result"
    }
   ],
   "source": [
    "b = (np.mean(X * y) - np.mean(X) * np.mean(y)) / (np.mean(X ** 2) - np.mean(X) ** 2)\n",
    "b"
   ]
  },
  {
   "cell_type": "markdown",
   "metadata": {},
   "source": [
    "$$a = \\overline{y} - b \\cdot {\\overline{x}}.$$"
   ]
  },
  {
   "cell_type": "code",
   "execution_count": 6,
   "metadata": {},
   "outputs": [
    {
     "data": {
      "text/plain": [
       "444.1773573243596"
      ]
     },
     "execution_count": 6,
     "metadata": {},
     "output_type": "execute_result"
    }
   ],
   "source": [
    "a = np.mean(y) - b * np.mean(X)\n",
    "a"
   ]
  },
  {
   "cell_type": "code",
   "execution_count": 7,
   "metadata": {},
   "outputs": [
    {
     "data": {
      "text/plain": [
       "array([535.89621821, 562.10160703, 942.07974498, 968.2851338 ,\n",
       "       548.99891262, 627.61507909, 585.68645697, 837.25818968,\n",
       "       758.64202321, 732.43663439])"
      ]
     },
     "execution_count": 7,
     "metadata": {},
     "output_type": "execute_result"
    }
   ],
   "source": [
    "y_pred = a + b * X\n",
    "y_pred"
   ]
  },
  {
   "cell_type": "code",
   "execution_count": 8,
   "metadata": {},
   "outputs": [
    {
     "data": {
      "text/plain": [
       "Text(0, 0.5, 'Значения кредитного скоринга')"
      ]
     },
     "execution_count": 8,
     "metadata": {},
     "output_type": "execute_result"
    },
    {
     "data": {
      "image/png": "[encoded data removed]",
      "text/plain": [
       "<Figure size 432x288 with 1 Axes>"
      ]
     },
     "metadata": {
      "needs_background": "light"
     },
     "output_type": "display_data"
    }
   ],
   "source": [
    "plt.scatter(X, y)\n",
    "plt.plot(X, y_pred)\n",
    "plt.xlabel('Заработная плата, тыс. рублей')\n",
    "plt.ylabel('Значения кредитного скоринга')"
   ]
  },
  {
   "cell_type": "code",
   "execution_count": 9,
   "metadata": {},
   "outputs": [],
   "source": [
    "def mse_(y = y, y_pred = y_pred, n = n):\n",
    "    return np.sum((y_pred - y) ** 2) / n"
   ]
  },
  {
   "cell_type": "code",
   "execution_count": 10,
   "metadata": {},
   "outputs": [
    {
     "data": {
      "text/plain": [
       "6470.414201176658"
      ]
     },
     "execution_count": 10,
     "metadata": {},
     "output_type": "execute_result"
    }
   ],
   "source": [
    "mse_()"
   ]
  },
  {
   "cell_type": "markdown",
   "metadata": {},
   "source": [
    "2. Расчет без intercept"
   ]
  },
  {
   "cell_type": "markdown",
   "metadata": {},
   "source": [
    "$$W = (X \\cdot X^T)^{-1} \\cdot X \\cdot y^T$$"
   ]
  },
  {
   "cell_type": "code",
   "execution_count": 11,
   "metadata": {},
   "outputs": [
    {
     "data": {
      "text/plain": [
       "array([[ 35,  45, 190, 200,  40,  70,  54, 150, 120, 110]])"
      ]
     },
     "execution_count": 11,
     "metadata": {},
     "output_type": "execute_result"
    }
   ],
   "source": [
    "X = X.reshape(1, 10)\n",
    "X"
   ]
  },
  {
   "cell_type": "code",
   "execution_count": 12,
   "metadata": {},
   "outputs": [
    {
     "data": {
      "text/plain": [
       "array([[401, 574, 874, 919, 459, 739, 653, 902, 746, 832]])"
      ]
     },
     "execution_count": 12,
     "metadata": {},
     "output_type": "execute_result"
    }
   ],
   "source": [
    "y = y.reshape(1, 10)\n",
    "y"
   ]
  },
  {
   "cell_type": "code",
   "execution_count": 13,
   "metadata": {},
   "outputs": [
    {
     "data": {
      "text/plain": [
       "array([[5.88982042]])"
      ]
     },
     "execution_count": 13,
     "metadata": {},
     "output_type": "execute_result"
    }
   ],
   "source": [
    "w1 = np.linalg.inv(np.dot(X, X.T)) @ X @ y.T\n",
    "w1"
   ]
  },
  {
   "cell_type": "code",
   "execution_count": 14,
   "metadata": {},
   "outputs": [
    {
     "data": {
      "text/plain": [
       "Text(0, 0.5, 'Значения кредитного скоринга')"
      ]
     },
     "execution_count": 14,
     "metadata": {},
     "output_type": "execute_result"
    },
    {
     "data": {
      "image/png": "[encoded data removed]",
      "text/plain": [
       "<Figure size 432x288 with 1 Axes>"
      ]
     },
     "metadata": {
      "needs_background": "light"
     },
     "output_type": "display_data"
    }
   ],
   "source": [
    "w0 = 0\n",
    "y_pred = w0 + w1 * X[0]\n",
    "plt.scatter(X[0], y[0])\n",
    "plt.plot(X[0], y_pred[0])\n",
    "plt.xlabel('Заработная плата, тыс. рублей')\n",
    "plt.ylabel('Значения кредитного скоринга')"
   ]
  },
  {
   "cell_type": "code",
   "execution_count": 15,
   "metadata": {},
   "outputs": [
    {
     "data": {
      "text/plain": [
       "56516.85841571941"
      ]
     },
     "execution_count": 15,
     "metadata": {},
     "output_type": "execute_result"
    }
   ],
   "source": [
    "mse_(y=y[0], y_pred = y_pred[0])"
   ]
  },
  {
   "cell_type": "markdown",
   "metadata": {},
   "source": [
    "3. Расчет с использованием intercept"
   ]
  },
  {
   "cell_type": "code",
   "execution_count": 16,
   "metadata": {},
   "outputs": [
    {
     "data": {
      "text/plain": [
       "array([[  1.,   1.,   1.,   1.,   1.,   1.,   1.,   1.,   1.,   1.],\n",
       "       [ 35.,  45., 190., 200.,  40.,  70.,  54., 150., 120., 110.]])"
      ]
     },
     "execution_count": 16,
     "metadata": {},
     "output_type": "execute_result"
    }
   ],
   "source": [
    "X = np.vstack([np.ones((1, 10)), X])\n",
    "X"
   ]
  },
  {
   "cell_type": "code",
   "execution_count": 17,
   "metadata": {},
   "outputs": [
    {
     "data": {
      "text/plain": [
       "array([[444.17735732],\n",
       "       [  2.62053888]])"
      ]
     },
     "execution_count": 17,
     "metadata": {},
     "output_type": "execute_result"
    }
   ],
   "source": [
    "W = np.linalg.inv(np.dot(X, X.T)) @ X @ y.T\n",
    "W"
   ]
  },
  {
   "cell_type": "code",
   "execution_count": 18,
   "metadata": {},
   "outputs": [
    {
     "data": {
      "text/plain": [
       "Text(0, 0.5, 'Значения кредитного скоринга')"
      ]
     },
     "execution_count": 18,
     "metadata": {},
     "output_type": "execute_result"
    },
    {
     "data": {
      "image/png": "[encoded data removed]",
      "text/plain": [
       "<Figure size 432x288 with 1 Axes>"
      ]
     },
     "metadata": {
      "needs_background": "light"
     },
     "output_type": "display_data"
    }
   ],
   "source": [
    "w0 = W[0]\n",
    "w1 = W[1]\n",
    "y_pred = w0 + w1 * X[1]\n",
    "plt.scatter(X[1], y[0])\n",
    "plt.plot(X[1], y_pred)\n",
    "plt.xlabel('Заработная плата, тыс. рублей')\n",
    "plt.ylabel('Значения кредитного скоринга')"
   ]
  },
  {
   "cell_type": "code",
   "execution_count": 19,
   "metadata": {},
   "outputs": [
    {
     "data": {
      "text/plain": [
       "6470.414201176658"
      ]
     },
     "execution_count": 19,
     "metadata": {},
     "output_type": "execute_result"
    }
   ],
   "source": [
    "mse_(y=y[0])"
   ]
  },
  {
   "cell_type": "code",
   "execution_count": null,
   "metadata": {},
   "outputs": [],
   "source": []
  },
  {
   "cell_type": "markdown",
   "metadata": {},
   "source": [
    "# Задание 2   \n",
    "Посчитать коэффициент линейной регрессии при заработной плате (zp),    \n",
    "используя градиентный спуск (без intercept)."
   ]
  },
  {
   "cell_type": "code",
   "execution_count": 20,
   "metadata": {},
   "outputs": [],
   "source": [
    "X = np.array([35, 45, 190, 200, 40, 70, 54, 150, 120, 110])\n",
    "y = np.array([401, 574, 874, 919, 459, 739, 653, 902, 746, 832])\n",
    "n = X.shape[0]"
   ]
  },
  {
   "cell_type": "code",
   "execution_count": 21,
   "metadata": {},
   "outputs": [],
   "source": [
    "def mse_(w1, y=y, X=X, n=n):\n",
    "    return np.sum((w1 * X - y) ** 2) / n"
   ]
  },
  {
   "cell_type": "code",
   "execution_count": 22,
   "metadata": {},
   "outputs": [],
   "source": [
    "alpha = 1e-7\n",
    "w1 = 0.1"
   ]
  },
  {
   "cell_type": "code",
   "execution_count": 23,
   "metadata": {},
   "outputs": [
    {
     "name": "stdout",
     "output_type": "stream",
     "text": [
      "Iteration: 0, w1 = 0.115952808, mse = 515794.9112047831\n",
      "Iteration: 500, w1 = 4.436601977832683, mse = 85610.88627620287\n",
      "Iteration: 1000, w1 = 5.524061455274668, mse = 58359.886733764004\n",
      "Iteration: 1500, w1 = 5.7977629451654105, mse = 56633.609296601324\n",
      "Iteration: 2000, w1 = 5.866650574656343, mse = 56524.254269626384\n",
      "Iteration: 2500, w1 = 5.883988826993857, mse = 56517.326923148226\n",
      "Iteration: 3000, w1 = 5.888352672815523, mse = 56516.888094403395\n",
      "Iteration: 3500, w1 = 5.88945100441116, mse = 56516.860295784114\n",
      "Iteration: 4000, w1 = 5.889727442292625, mse = 56516.85853481644\n",
      "Iteration: 4500, w1 = 5.889797018641524, mse = 56516.8584232639\n",
      "Iteration: 5000, w1 = 5.889814530236905, mse = 56516.85841619732\n",
      "Iteration: 5500, w1 = 5.889818937711242, mse = 56516.858415749695\n"
     ]
    }
   ],
   "source": [
    "for i in range(6000):\n",
    "    w1 -= alpha * (2 / n) * np.sum((w1 * X - y) * X)\n",
    "    if i % 500 == 0:\n",
    "        print(f'Iteration: {i}, w1 = {w1}, mse = {mse_(w1)}')"
   ]
  },
  {
   "cell_type": "markdown",
   "metadata": {},
   "source": [
    "w1 = 5.889818937711242    \n",
    "mse = 56516.858415749695"
   ]
  },
  {
   "cell_type": "markdown",
   "metadata": {},
   "source": [
    "# Задание 3   \n",
    "В каких случаях для вычисления доверительных интервалов и проверки статистических гипотез    \n",
    "используется таблица значений функции Лапласа, а в каких - таблица критических точек распределения Стьюдента?  "
   ]
  },
  {
   "cell_type": "markdown",
   "metadata": {},
   "source": [
    "Таблица значений функции Лапласа используется в случае, когда известно, что случайная величена имеет    \n",
    "нормальное распределение, а также известны математическое ожидание и дисперсия."
   ]
  },
  {
   "cell_type": "markdown",
   "metadata": {},
   "source": [
    "Таблица критических точек распределения Стьюдента используется при оценке математического ожидания нормального   \n",
    "распределения при неизвестной дисперсии. Распределение Стьюдента не зависит от этих параметров. Зависит только от    \n",
    "величины выборки. При большом n  приближается к нормальному распределению, поэтому подходит для маленьких выборок."
   ]
  },
  {
   "cell_type": "markdown",
   "metadata": {},
   "source": [
    "# Задание 4   \n",
    "Произвести вычисления как в пункте 2, но с вычислением intercept.    \n",
    "Учесть, что изменение коэффициентов должно производиться   \n",
    "на каждом шаге одновременно (то есть изменение одного коэффициента не должно влиять на    \n",
    "изменение другого во время одной итерации)."
   ]
  },
  {
   "cell_type": "code",
   "execution_count": 24,
   "metadata": {},
   "outputs": [],
   "source": [
    "X = np.array([35, 45, 190, 200, 40, 70, 54, 150, 120, 110])\n",
    "y = np.array([401, 574, 874, 919, 459, 739, 653, 902, 746, 832])\n",
    "n = X.shape[0]\n",
    "alpha = 1e-5\n",
    "w0 = 10\n",
    "w1 = 0.1"
   ]
  },
  {
   "cell_type": "code",
   "execution_count": 25,
   "metadata": {},
   "outputs": [],
   "source": [
    "def mse_(w0, w1, y=y, X=X, n=n):\n",
    "    return np.sum((w0 + w1 * X - y) ** 2) / n"
   ]
  },
  {
   "cell_type": "code",
   "execution_count": 26,
   "metadata": {},
   "outputs": [
    {
     "name": "stdout",
     "output_type": "stream",
     "text": [
      "Iteration: 0, w0 = 10.0137952, w1 = 1.6749728233344003, mse = 290541.55503052374\n",
      "Iteration: 200000, w0 = 286.78705278137215, w1 = 3.778995233414747, mse = 12754.127277342204\n",
      "Iteration: 400000, w0 = 387.11718621444976, w1 = 3.040524838996752, mse = 7296.31242892647\n",
      "Iteration: 600000, w0 = 423.4908027329192, w1 = 2.772800297847609, mse = 6578.96592439067\n",
      "Iteration: 800000, w0 = 436.6776682673352, w1 = 2.675739629640357, mse = 6484.681669269981\n",
      "Iteration: 1000000, w0 = 441.4584252903516, w1 = 2.6405513227618616, mse = 6472.289442211679\n",
      "Iteration: 1200000, w0 = 443.1916376032741, w1 = 2.6277941785566483, mse = 6470.660673004487\n",
      "Iteration: 1400000, w0 = 443.81999518497025, w1 = 2.623169212404279, mse = 6470.446596138574\n",
      "Iteration: 1600000, w0 = 444.0477995038817, w1 = 2.621492480404826, mse = 6470.418459000229\n",
      "Iteration: 1800000, w0 = 444.13038752258706, w1 = 2.6208845991565846, mse = 6470.414760802614\n",
      "Iteration: 2000000, w0 = 444.1603289252199, w1 = 2.6206642183133106, mse = 6470.4142747309525\n",
      "Iteration: 2200000, w0 = 444.17118386042426, w1 = 2.6205843215962683, mse = 6470.414210844245\n",
      "Iteration: 2400000, w0 = 444.17511920105136, w1 = 2.6205553558962777, mse = 6470.414202447314\n"
     ]
    }
   ],
   "source": [
    "for i in range(2500000):\n",
    "    w0 -= alpha * (2 / n) * np.sum(w0 + w1 * X - y)\n",
    "    w1 -= alpha * (2 / n) * np.sum((w0 + w1 * X - y) * X)\n",
    "    if i % 200000 == 0:\n",
    "        print(f'Iteration: {i}, w0 = {w0}, w1 = {w1}, mse = {mse_(w0, w1)}')"
   ]
  },
  {
   "cell_type": "markdown",
   "metadata": {},
   "source": [
    "w0 = 444.17511920105136   \n",
    "w1 = 2.6205553558962777   \n",
    "mse = 6470.414202447314"
   ]
  },
  {
   "cell_type": "code",
   "execution_count": null,
   "metadata": {},
   "outputs": [],
   "source": []
  }
 ],
 "metadata": {
  "kernelspec": {
   "display_name": "Python 3",
   "language": "python",
   "name": "python3"
  },
  "language_info": {
   "codemirror_mode": {
    "name": "ipython",
    "version": 3
   },
   "file_extension": ".py",
   "mimetype": "text/x-python",
   "name": "python",
   "nbconvert_exporter": "python",
   "pygments_lexer": "ipython3",
   "version": "3.7.1"
  }
 },
 "nbformat": 4,
 "nbformat_minor": 2
}
